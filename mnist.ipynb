{
  "nbformat": 4,
  "nbformat_minor": 0,
  "metadata": {
    "colab": {
      "name": "Untitled8.ipynb",
      "version": "0.3.2",
      "views": {},
      "default_view": {},
      "provenance": []
    },
    "kernelspec": {
      "name": "python3",
      "display_name": "Python 3"
    },
    "accelerator": "GPU"
  },
  "cells": [
    {
      "metadata": {
        "id": "P0-vlkUwqsTq",
        "colab_type": "code",
        "colab": {
          "autoexec": {
            "startup": false,
            "wait_interval": 0
          },
          "base_uri": "https://localhost:8080/",
          "height": 102
        },
        "outputId": "3479ad42-fd44-4d4a-8215-87f5ba29c606",
        "executionInfo": {
          "status": "ok",
          "timestamp": 1523858055926,
          "user_tz": -330,
          "elapsed": 3474,
          "user": {
            "displayName": "Subhanandh Tamilarasu",
            "photoUrl": "//lh3.googleusercontent.com/-BggtE_xase8/AAAAAAAAAAI/AAAAAAAAESw/wOEBjSdnkIw/s50-c-k-no/photo.jpg",
            "userId": "102661954893494761457"
          }
        }
      },
      "cell_type": "code",
      "source": [
        "!pip install keras"
      ],
      "execution_count": 1,
      "outputs": [
        {
          "output_type": "stream",
          "text": [
            "Requirement already satisfied: keras in /usr/local/lib/python3.6/dist-packages\r\n",
            "Requirement already satisfied: pyyaml in /usr/local/lib/python3.6/dist-packages (from keras)\r\n",
            "Requirement already satisfied: numpy>=1.9.1 in /usr/local/lib/python3.6/dist-packages (from keras)\n",
            "Requirement already satisfied: scipy>=0.14 in /usr/local/lib/python3.6/dist-packages (from keras)\n",
            "Requirement already satisfied: six>=1.9.0 in /usr/local/lib/python3.6/dist-packages (from keras)\n"
          ],
          "name": "stdout"
        }
      ]
    },
    {
      "metadata": {
        "id": "A79g9WHdq-PE",
        "colab_type": "code",
        "colab": {
          "autoexec": {
            "startup": false,
            "wait_interval": 0
          },
          "base_uri": "https://localhost:8080/",
          "height": 34
        },
        "outputId": "e060d032-3525-4d47-e140-854fe1616f89",
        "executionInfo": {
          "status": "ok",
          "timestamp": 1525924252013,
          "user_tz": -330,
          "elapsed": 8481,
          "user": {
            "displayName": "Subhanandh Tamilarasu",
            "photoUrl": "//lh3.googleusercontent.com/-BggtE_xase8/AAAAAAAAAAI/AAAAAAAAESw/wOEBjSdnkIw/s50-c-k-no/photo.jpg",
            "userId": "102661954893494761457"
          }
        }
      },
      "cell_type": "code",
      "source": [
        "import keras\n",
        "import numpy as np"
      ],
      "execution_count": 1,
      "outputs": [
        {
          "output_type": "stream",
          "text": [
            "Using TensorFlow backend.\n"
          ],
          "name": "stderr"
        }
      ]
    },
    {
      "metadata": {
        "id": "n8Os-jCGrL4R",
        "colab_type": "code",
        "colab": {
          "autoexec": {
            "startup": false,
            "wait_interval": 0
          }
        }
      },
      "cell_type": "code",
      "source": [
        "from keras.models import Sequential\n",
        "from keras.layers import Dense, Dropout, Activation, Flatten, Add\n",
        "from keras.layers import Conv2D, MaxPool2D\n",
        "from keras.utils import np_utils\n",
        "\n",
        "from keras.datasets import mnist"
      ],
      "execution_count": 0,
      "outputs": []
    },
    {
      "metadata": {
        "id": "iQlovQVftixy",
        "colab_type": "code",
        "colab": {
          "autoexec": {
            "startup": false,
            "wait_interval": 0
          }
        }
      },
      "cell_type": "code",
      "source": [
        "from matplotlib import pyplot as plt\n",
        "%matplotlib inline"
      ],
      "execution_count": 0,
      "outputs": []
    },
    {
      "metadata": {
        "id": "9T0wVrN0sI5n",
        "colab_type": "code",
        "colab": {
          "autoexec": {
            "startup": false,
            "wait_interval": 0
          },
          "base_uri": "https://localhost:8080/",
          "height": 51
        },
        "outputId": "0080c03e-3390-409b-d2ef-090e41976919",
        "executionInfo": {
          "status": "ok",
          "timestamp": 1525924266861,
          "user_tz": -330,
          "elapsed": 6002,
          "user": {
            "displayName": "Subhanandh Tamilarasu",
            "photoUrl": "//lh3.googleusercontent.com/-BggtE_xase8/AAAAAAAAAAI/AAAAAAAAESw/wOEBjSdnkIw/s50-c-k-no/photo.jpg",
            "userId": "102661954893494761457"
          }
        }
      },
      "cell_type": "code",
      "source": [
        "(X_train, y_train), (X_test, y_test) = mnist.load_data()"
      ],
      "execution_count": 4,
      "outputs": [
        {
          "output_type": "stream",
          "text": [
            "Downloading data from https://s3.amazonaws.com/img-datasets/mnist.npz\n",
            "11493376/11490434 [==============================] - 4s 0us/step\n"
          ],
          "name": "stdout"
        }
      ]
    },
    {
      "metadata": {
        "id": "cnsoFT2OBVQn",
        "colab_type": "code",
        "colab": {
          "autoexec": {
            "startup": false,
            "wait_interval": 0
          },
          "base_uri": "https://localhost:8080/",
          "height": 68
        },
        "outputId": "6aea2552-d1a2-4686-a037-2f9c216d5f18",
        "executionInfo": {
          "status": "ok",
          "timestamp": 1525924273005,
          "user_tz": -330,
          "elapsed": 1266,
          "user": {
            "displayName": "Subhanandh Tamilarasu",
            "photoUrl": "//lh3.googleusercontent.com/-BggtE_xase8/AAAAAAAAAAI/AAAAAAAAESw/wOEBjSdnkIw/s50-c-k-no/photo.jpg",
            "userId": "102661954893494761457"
          }
        }
      },
      "cell_type": "code",
      "source": [
        "print (X_train.shape)\n",
        "print (X_train[667][20])\n"
      ],
      "execution_count": 5,
      "outputs": [
        {
          "output_type": "stream",
          "text": [
            "(60000, 28, 28)\n",
            "[  0   0   0   0   0 128 255 255 255 255 255 255 255 255 191 128   0   0\n",
            "   0   0   0   0   0   0   0   0   0   0]\n"
          ],
          "name": "stdout"
        }
      ]
    },
    {
      "metadata": {
        "id": "L_CvCzTttFv9",
        "colab_type": "code",
        "colab": {
          "autoexec": {
            "startup": false,
            "wait_interval": 0
          },
          "base_uri": "https://localhost:8080/",
          "height": 299
        },
        "outputId": "c1f8f725-1675-4487-c938-5cbece7becf5",
        "executionInfo": {
          "status": "ok",
          "timestamp": 1525924275755,
          "user_tz": -330,
          "elapsed": 1004,
          "user": {
            "displayName": "Subhanandh Tamilarasu",
            "photoUrl": "//lh3.googleusercontent.com/-BggtE_xase8/AAAAAAAAAAI/AAAAAAAAESw/wOEBjSdnkIw/s50-c-k-no/photo.jpg",
            "userId": "102661954893494761457"
          }
        }
      },
      "cell_type": "code",
      "source": [
        "print (X_train.shape)\n",
        "plt.imshow(X_train[5])"
      ],
      "execution_count": 6,
      "outputs": [
        {
          "output_type": "stream",
          "text": [
            "(60000, 28, 28)\n"
          ],
          "name": "stdout"
        },
        {
          "output_type": "execute_result",
          "data": {
            "text/plain": [
              "<matplotlib.image.AxesImage at 0x7fbf66fcf9e8>"
            ]
          },
          "metadata": {
            "tags": []
          },
          "execution_count": 6
        },
        {
          "output_type": "display_data",
          "data": {
            "image/png": "[encoded data removed]",
            "text/plain": [
              "<matplotlib.figure.Figure at 0x7fbf67464da0>"
            ]
          },
          "metadata": {
            "tags": []
          }
        }
      ]
    },
    {
      "metadata": {
        "id": "gWLR_-kftnBI",
        "colab_type": "code",
        "colab": {
          "autoexec": {
            "startup": false,
            "wait_interval": 0
          },
          "base_uri": "https://localhost:8080/",
          "height": 510
        },
        "outputId": "5d1dbd30-8c26-46f9-f90b-ebef02a8b82c",
        "executionInfo": {
          "status": "ok",
          "timestamp": 1525924277628,
          "user_tz": -330,
          "elapsed": 978,
          "user": {
            "displayName": "Subhanandh Tamilarasu",
            "photoUrl": "//lh3.googleusercontent.com/-BggtE_xase8/AAAAAAAAAAI/AAAAAAAAESw/wOEBjSdnkIw/s50-c-k-no/photo.jpg",
            "userId": "102661954893494761457"
          }
        }
      },
      "cell_type": "code",
      "source": [
        "X_train = X_train.reshape(X_train.shape[0], 28, 28, 1)\n",
        "X_test = X_test.reshape(X_test.shape[0], 28, 28, 1)\n",
        "\n",
        "print (X_train.shape)\n",
        "print (X_train[667][20])"
      ],
      "execution_count": 7,
      "outputs": [
        {
          "output_type": "stream",
          "text": [
            "(60000, 28, 28, 1)\n",
            "[[  0]\n",
            " [  0]\n",
            " [  0]\n",
            " [  0]\n",
            " [  0]\n",
            " [128]\n",
            " [255]\n",
            " [255]\n",
            " [255]\n",
            " [255]\n",
            " [255]\n",
            " [255]\n",
            " [255]\n",
            " [255]\n",
            " [191]\n",
            " [128]\n",
            " [  0]\n",
            " [  0]\n",
            " [  0]\n",
            " [  0]\n",
            " [  0]\n",
            " [  0]\n",
            " [  0]\n",
            " [  0]\n",
            " [  0]\n",
            " [  0]\n",
            " [  0]\n",
            " [  0]]\n"
          ],
          "name": "stdout"
        }
      ]
    },
    {
      "metadata": {
        "id": "bjNop3vFuX8V",
        "colab_type": "code",
        "colab": {
          "autoexec": {
            "startup": false,
            "wait_interval": 0
          }
        }
      },
      "cell_type": "code",
      "source": [
        "X_train = X_train.astype('float32')\n",
        "X_test = X_test.astype('float32')\n",
        "X_train /= 255\n",
        "X_test /= 255"
      ],
      "execution_count": 0,
      "outputs": []
    },
    {
      "metadata": {
        "id": "fjNV0Q_WCZfB",
        "colab_type": "code",
        "colab": {
          "autoexec": {
            "startup": false,
            "wait_interval": 0
          },
          "base_uri": "https://localhost:8080/",
          "height": 493
        },
        "outputId": "fbf27e0a-5178-474a-a77d-7bea0835c30b",
        "executionInfo": {
          "status": "ok",
          "timestamp": 1525883317463,
          "user_tz": -330,
          "elapsed": 880,
          "user": {
            "displayName": "Subhanandh Tamilarasu",
            "photoUrl": "//lh3.googleusercontent.com/-BggtE_xase8/AAAAAAAAAAI/AAAAAAAAESw/wOEBjSdnkIw/s50-c-k-no/photo.jpg",
            "userId": "102661954893494761457"
          }
        }
      },
      "cell_type": "code",
      "source": [
        "print (X_train[667][20])"
      ],
      "execution_count": 17,
      "outputs": [
        {
          "output_type": "stream",
          "text": [
            "[[0.       ]\n",
            " [0.       ]\n",
            " [0.       ]\n",
            " [0.       ]\n",
            " [0.       ]\n",
            " [0.5019608]\n",
            " [1.       ]\n",
            " [1.       ]\n",
            " [1.       ]\n",
            " [1.       ]\n",
            " [1.       ]\n",
            " [1.       ]\n",
            " [1.       ]\n",
            " [1.       ]\n",
            " [0.7490196]\n",
            " [0.5019608]\n",
            " [0.       ]\n",
            " [0.       ]\n",
            " [0.       ]\n",
            " [0.       ]\n",
            " [0.       ]\n",
            " [0.       ]\n",
            " [0.       ]\n",
            " [0.       ]\n",
            " [0.       ]\n",
            " [0.       ]\n",
            " [0.       ]\n",
            " [0.       ]]\n"
          ],
          "name": "stdout"
        }
      ]
    },
    {
      "metadata": {
        "id": "nEtRMNAfv6i_",
        "colab_type": "code",
        "colab": {
          "autoexec": {
            "startup": false,
            "wait_interval": 0
          },
          "base_uri": "https://localhost:8080/",
          "height": 68
        },
        "outputId": "0f422673-3ec3-45f2-9864-9754d7f6f100",
        "executionInfo": {
          "status": "ok",
          "timestamp": 1525924288579,
          "user_tz": -330,
          "elapsed": 2382,
          "user": {
            "displayName": "Subhanandh Tamilarasu",
            "photoUrl": "//lh3.googleusercontent.com/-BggtE_xase8/AAAAAAAAAAI/AAAAAAAAESw/wOEBjSdnkIw/s50-c-k-no/photo.jpg",
            "userId": "102661954893494761457"
          }
        }
      },
      "cell_type": "code",
      "source": [
        "print (y_train[30])\n",
        "# Convert 1-dimensional class arrays to 10-dimensional class matrices\n",
        "Y_train = np_utils.to_categorical(y_train, 10)\n",
        "Y_test = np_utils.to_categorical(y_test, 10)\n",
        "print (Y_train.shape)\n",
        "print (Y_train[30])"
      ],
      "execution_count": 8,
      "outputs": [
        {
          "output_type": "stream",
          "text": [
            "3\n",
            "(60000, 10)\n",
            "[0. 0. 0. 1. 0. 0. 0. 0. 0. 0.]\n"
          ],
          "name": "stdout"
        }
      ]
    },
    {
      "metadata": {
        "id": "3J0bYn7cwO_1",
        "colab_type": "code",
        "colab": {
          "autoexec": {
            "startup": false,
            "wait_interval": 0
          },
          "base_uri": "https://localhost:8080/",
          "height": 306
        },
        "outputId": "d0ec8131-a7c9-4ef7-af9c-6eede9a65fc0",
        "executionInfo": {
          "status": "ok",
          "timestamp": 1525924338030,
          "user_tz": -330,
          "elapsed": 1206,
          "user": {
            "displayName": "Subhanandh Tamilarasu",
            "photoUrl": "//lh3.googleusercontent.com/-BggtE_xase8/AAAAAAAAAAI/AAAAAAAAESw/wOEBjSdnkIw/s50-c-k-no/photo.jpg",
            "userId": "102661954893494761457"
          }
        }
      },
      "cell_type": "code",
      "source": [
        "model = Sequential()\n",
        "model.add(Conv2D(32, (3, 3), activation='relu', input_shape = (28, 28, 1) ))\n",
        "model.add(MaxPool2D((2, 2)))\n",
        "model.add(Conv2D(10, (1, 1), activation='relu'))\n",
        "model.add(Conv2D(10, (13, 13)))\n",
        "model.add(Flatten())\n",
        "model.add(Dense(units=10, activation='softmax')) #model.add(Activation('softmax')) #Dense(10, activation='softmax'))\n",
        "model.summary()"
      ],
      "execution_count": 9,
      "outputs": [
        {
          "output_type": "stream",
          "text": [
            "_________________________________________________________________\n",
            "Layer (type)                 Output Shape              Param #   \n",
            "=================================================================\n",
            "conv2d_1 (Conv2D)            (None, 26, 26, 32)        320       \n",
            "_________________________________________________________________\n",
            "conv2d_2 (Conv2D)            (None, 26, 26, 10)        330       \n",
            "_________________________________________________________________\n",
            "conv2d_3 (Conv2D)            (None, 14, 14, 10)        16910     \n",
            "_________________________________________________________________\n",
            "flatten_1 (Flatten)          (None, 1960)              0         \n",
            "_________________________________________________________________\n",
            "dense_1 (Dense)              (None, 10)                19610     \n",
            "=================================================================\n",
            "Total params: 37,170\n",
            "Trainable params: 37,170\n",
            "Non-trainable params: 0\n",
            "_________________________________________________________________\n"
          ],
          "name": "stdout"
        }
      ]
    },
    {
      "metadata": {
        "id": "ivbkbE8qL38f",
        "colab_type": "code",
        "colab": {
          "autoexec": {
            "startup": false,
            "wait_interval": 0
          },
          "base_uri": "https://localhost:8080/",
          "height": 408
        },
        "outputId": "30916ab1-eab7-4c7d-ffeb-af8766a35a81",
        "executionInfo": {
          "status": "ok",
          "timestamp": 1525925518043,
          "user_tz": -330,
          "elapsed": 1972,
          "user": {
            "displayName": "Subhanandh Tamilarasu",
            "photoUrl": "//lh3.googleusercontent.com/-BggtE_xase8/AAAAAAAAAAI/AAAAAAAAESw/wOEBjSdnkIw/s50-c-k-no/photo.jpg",
            "userId": "102661954893494761457"
          }
        }
      },
      "cell_type": "code",
      "source": [
        "model = Sequential()\n",
        "model.add(Conv2D(32, (3, 3), activation='relu', input_shape = (28, 28, 1) ))\n",
        "model.add(MaxPool2D((2, 2)))\n",
        "model.add(Conv2D(32, (3, 3), activation= 'relu'))\n",
        "model.add(MaxPool2D((2, 2)))\n",
        "model.add(Conv2D(10, (1, 1), activation='relu'))\n",
        "model.add(Conv2D(10, (5, 5)))\n",
        "model.add(Flatten())\n",
        "model.add(Dense(units=10, activation='softmax')) #model.add(Activation('softmax')) #Dense(10, activation='softmax'))\n",
        "model.summary()"
      ],
      "execution_count": 19,
      "outputs": [
        {
          "output_type": "stream",
          "text": [
            "_________________________________________________________________\n",
            "Layer (type)                 Output Shape              Param #   \n",
            "=================================================================\n",
            "conv2d_15 (Conv2D)           (None, 26, 26, 32)        320       \n",
            "_________________________________________________________________\n",
            "max_pooling2d_3 (MaxPooling2 (None, 13, 13, 32)        0         \n",
            "_________________________________________________________________\n",
            "conv2d_16 (Conv2D)           (None, 11, 11, 32)        9248      \n",
            "_________________________________________________________________\n",
            "max_pooling2d_4 (MaxPooling2 (None, 5, 5, 32)          0         \n",
            "_________________________________________________________________\n",
            "conv2d_17 (Conv2D)           (None, 5, 5, 10)          330       \n",
            "_________________________________________________________________\n",
            "conv2d_18 (Conv2D)           (None, 1, 1, 10)          2510      \n",
            "_________________________________________________________________\n",
            "flatten_4 (Flatten)          (None, 10)                0         \n",
            "_________________________________________________________________\n",
            "dense_4 (Dense)              (None, 10)                110       \n",
            "=================================================================\n",
            "Total params: 12,518\n",
            "Trainable params: 12,518\n",
            "Non-trainable params: 0\n",
            "_________________________________________________________________\n"
          ],
          "name": "stdout"
        }
      ]
    },
    {
      "metadata": {
        "id": "j0yH8hgU0awV",
        "colab_type": "code",
        "colab": {
          "autoexec": {
            "startup": false,
            "wait_interval": 0
          }
        }
      },
      "cell_type": "code",
      "source": [
        "model.compile(loss='categorical_crossentropy',\n",
        "             optimizer='adam',\n",
        "             metrics=['accuracy'])"
      ],
      "execution_count": 0,
      "outputs": []
    },
    {
      "metadata": {
        "id": "OvhMtxRX1A05",
        "colab_type": "code",
        "colab": {
          "autoexec": {
            "startup": false,
            "wait_interval": 0
          },
          "base_uri": "https://localhost:8080/",
          "height": 394
        },
        "outputId": "907a5584-e6f8-44d4-a527-b95699c3873a",
        "executionInfo": {
          "status": "ok",
          "timestamp": 1525926199101,
          "user_tz": -330,
          "elapsed": 193512,
          "user": {
            "displayName": "Subhanandh Tamilarasu",
            "photoUrl": "//lh3.googleusercontent.com/-BggtE_xase8/AAAAAAAAAAI/AAAAAAAAESw/wOEBjSdnkIw/s50-c-k-no/photo.jpg",
            "userId": "102661954893494761457"
          }
        }
      },
      "cell_type": "code",
      "source": [
        "model.fit(x=X_train, y=Y_train, batch_size = 32, epochs = 10)\n",
        "#model.fit(X_train, Y_train, batch_size=32, nb_epoch=10, verbose=1)"
      ],
      "execution_count": 23,
      "outputs": [
        {
          "output_type": "stream",
          "text": [
            "Epoch 1/10\n",
            "60000/60000 [==============================] - 19s 316us/step - loss: 0.0322 - acc: 0.9895\n",
            "Epoch 2/10\n",
            "56544/60000 [===========================>..] - ETA: 1s - loss: 0.0287 - acc: 0.9905"
          ],
          "name": "stdout"
        },
        {
          "output_type": "stream",
          "text": [
            "60000/60000 [==============================] - 19s 323us/step - loss: 0.0289 - acc: 0.9904\n",
            "Epoch 3/10\n",
            "60000/60000 [==============================] - 19s 322us/step - loss: 0.0269 - acc: 0.9910\n",
            "Epoch 4/10\n",
            "18400/60000 [========>.....................] - ETA: 13s - loss: 0.0229 - acc: 0.9929"
          ],
          "name": "stdout"
        },
        {
          "output_type": "stream",
          "text": [
            "60000/60000 [==============================] - 19s 320us/step - loss: 0.0270 - acc: 0.9911\n",
            "Epoch 5/10\n",
            "60000/60000 [==============================] - 19s 321us/step - loss: 0.0247 - acc: 0.9919\n",
            "Epoch 6/10\n",
            " 7104/60000 [==>...........................] - ETA: 16s - loss: 0.0166 - acc: 0.9938"
          ],
          "name": "stdout"
        },
        {
          "output_type": "stream",
          "text": [
            "60000/60000 [==============================] - 19s 322us/step - loss: 0.0231 - acc: 0.9924\n",
            "Epoch 7/10\n",
            "60000/60000 [==============================] - 19s 320us/step - loss: 0.0235 - acc: 0.9920\n",
            "Epoch 8/10\n",
            " 3840/60000 [>.............................] - ETA: 18s - loss: 0.0132 - acc: 0.9948"
          ],
          "name": "stdout"
        },
        {
          "output_type": "stream",
          "text": [
            "60000/60000 [==============================] - 19s 321us/step - loss: 0.0226 - acc: 0.9924\n",
            "Epoch 9/10\n",
            "60000/60000 [==============================] - 19s 322us/step - loss: 0.0203 - acc: 0.9933\n",
            "Epoch 10/10\n",
            " 2656/60000 [>.............................] - ETA: 18s - loss: 0.0118 - acc: 0.9955"
          ],
          "name": "stdout"
        },
        {
          "output_type": "stream",
          "text": [
            "60000/60000 [==============================] - 19s 321us/step - loss: 0.0200 - acc: 0.9934\n"
          ],
          "name": "stdout"
        },
        {
          "output_type": "execute_result",
          "data": {
            "text/plain": [
              "<keras.callbacks.History at 0x7fbf30540a90>"
            ]
          },
          "metadata": {
            "tags": []
          },
          "execution_count": 23
        }
      ]
    },
    {
      "metadata": {
        "id": "36u_TllqH68w",
        "colab_type": "code",
        "colab": {
          "autoexec": {
            "startup": false,
            "wait_interval": 0
          },
          "base_uri": "https://localhost:8080/",
          "height": 51
        },
        "outputId": "74221cc0-a77a-4cb3-e44a-2d6b29910205",
        "executionInfo": {
          "status": "ok",
          "timestamp": 1525926542285,
          "user_tz": -330,
          "elapsed": 2211,
          "user": {
            "displayName": "Subhanandh Tamilarasu",
            "photoUrl": "//lh3.googleusercontent.com/-BggtE_xase8/AAAAAAAAAAI/AAAAAAAAESw/wOEBjSdnkIw/s50-c-k-no/photo.jpg",
            "userId": "102661954893494761457"
          }
        }
      },
      "cell_type": "code",
      "source": [
        "score = model.evaluate(X_test, Y_test)\n",
        "print (score)"
      ],
      "execution_count": 24,
      "outputs": [
        {
          "output_type": "stream",
          "text": [
            "10000/10000 [==============================] - 1s 102us/step\n",
            "[0.05593237020008292, 0.986]\n"
          ],
          "name": "stdout"
        }
      ]
    },
    {
      "metadata": {
        "id": "tAyumv2NIU3M",
        "colab_type": "code",
        "colab": {
          "autoexec": {
            "startup": false,
            "wait_interval": 0
          },
          "base_uri": "https://localhost:8080/",
          "height": 51
        },
        "outputId": "ae1e36c0-1774-4bde-f458-7dfc5169b045",
        "executionInfo": {
          "status": "ok",
          "timestamp": 1525884133550,
          "user_tz": -330,
          "elapsed": 1590,
          "user": {
            "displayName": "Subhanandh Tamilarasu",
            "photoUrl": "//lh3.googleusercontent.com/-BggtE_xase8/AAAAAAAAAAI/AAAAAAAAESw/wOEBjSdnkIw/s50-c-k-no/photo.jpg",
            "userId": "102661954893494761457"
          }
        }
      },
      "cell_type": "code",
      "source": [
        "# manual test\n",
        "y_pred = model.predict(X_test)\n",
        "print(np.argmax(y_pred[:9], axis = 1))\n",
        "print(y_test[:9])"
      ],
      "execution_count": 30,
      "outputs": [
        {
          "output_type": "stream",
          "text": [
            "[7 2 1 0 4 1 4 9 5]\n",
            "[7 2 1 0 4 1 4 9 5]\n"
          ],
          "name": "stdout"
        }
      ]
    }
  ]
}